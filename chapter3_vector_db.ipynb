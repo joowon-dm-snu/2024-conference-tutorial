{
 "cells": [
  {
   "cell_type": "markdown",
   "metadata": {},
   "source": [
    "### Embedding 기초"
   ]
  },
  {
   "cell_type": "code",
   "execution_count": null,
   "metadata": {},
   "outputs": [],
   "source": [
    "!pip install langchain_pinecone"
   ]
  },
  {
   "cell_type": "code",
   "execution_count": null,
   "metadata": {},
   "outputs": [],
   "source": [
    "from pinecone import Pinecone\n",
    "\n",
    "pc = Pinecone(api_key=\"********-****-****-****-************\")\n",
    "index = pc.Index(\"playground\")\n",
    "\n",
    "index.upsert(\n",
    "    vectors=[\n",
    "        {\n",
    "            \"id\": \"vec1\", \n",
    "            \"values\": [0.1, 0.1, 0.1, 0.1, 0.1, 0.1, 0.1, 0.1], \n",
    "            \"metadata\": {\"genre\": \"drama\"}\n",
    "        }, {\n",
    "            \"id\": \"vec2\", \n",
    "            \"values\": [0.2, 0.2, 0.2, 0.2, 0.2, 0.2, 0.2, 0.2], \n",
    "            \"metadata\": {\"genre\": \"action\"}\n",
    "        }, {\n",
    "            \"id\": \"vec3\", \n",
    "            \"values\": [0.3, 0.3, 0.3, 0.3, 0.3, 0.3, 0.3, 0.3], \n",
    "            \"metadata\": {\"genre\": \"drama\"}\n",
    "        }, {\n",
    "            \"id\": \"vec4\", \n",
    "            \"values\": [0.4, 0.4, 0.4, 0.4, 0.4, 0.4, 0.4, 0.4], \n",
    "            \"metadata\": {\"genre\": \"action\"}\n",
    "        }\n",
    "    ],\n",
    "    namespace= \"ns1\"\n",
    ")\n",
    "\n",
    "index.query(\n",
    "    namespace=\"ns1\",\n",
    "    vector=[0.3, 0.3, 0.3, 0.3, 0.3, 0.3, 0.3, 0.3],\n",
    "    top_k=2,\n",
    "    include_values=True,\n",
    "    include_metadata=True,\n",
    "    filter={\"genre\": {\"$eq\": \"action\"}}\n",
    ")\n",
    "\n",
    "# filter metadata https://docs.pinecone.io/guides/data/filter-with-metadata"
   ]
  }
 ],
 "metadata": {
  "kernelspec": {
   "display_name": "kook-G0wDcaHN-py3.11",
   "language": "python",
   "name": "python3"
  },
  "language_info": {
   "name": "python",
   "version": "3.11.8"
  }
 },
 "nbformat": 4,
 "nbformat_minor": 2
}
