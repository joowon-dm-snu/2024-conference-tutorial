{
 "cells": [
  {
   "cell_type": "code",
   "execution_count": null,
   "metadata": {},
   "outputs": [],
   "source": [
    "!pip install openai"
   ]
  },
  {
   "cell_type": "code",
   "execution_count": null,
   "metadata": {},
   "outputs": [],
   "source": [
    "from openai import OpenAI\n",
    "\n",
    "# defaults to getting the key using os.environ.get(\"OPENAI_API_KEY\")\n",
    "# if you saved the key under a different environment variable name, you can do something like:\n",
    "client = OpenAI(\n",
    "  api_key=\"\",\n",
    ")"
   ]
  },
  {
   "cell_type": "code",
   "execution_count": null,
   "metadata": {},
   "outputs": [],
   "source": [
    "completion = client.chat.completions.create(\n",
    "  model=\"gpt-3.5-turbo\",\n",
    "  messages=[\n",
    "    {\"role\": \"system\", \"content\": \"당신은 시적인 어시스턴트이며, 창의적인 재능을 발휘하여 복잡한 프로그래밍 개념을 설명할 수 있습니다.\"},\n",
    "    {\"role\": \"user\", \"content\": \"프로그래밍에서 재귀의 개념을 설명하는 시를 지어주세요.\"}\n",
    "  ]\n",
    ")"
   ]
  },
  {
   "cell_type": "code",
   "execution_count": null,
   "metadata": {},
   "outputs": [],
   "source": [
    "from pprint import pprint\n",
    "\n",
    "pprint(completion.__dict__)"
   ]
  },
  {
   "cell_type": "code",
   "execution_count": null,
   "metadata": {},
   "outputs": [],
   "source": [
    "print(completion.choices[0].message.content)"
   ]
  },
  {
   "cell_type": "markdown",
   "metadata": {},
   "source": [
    "### 프롬프트 예시\n",
    "- [OpenAI](https://platform.openai.com/docs/examples)\n",
    "- [Anthropic](https://docs.anthropic.com/en/docs/build-with-claude/prompt-engineering/system-prompts)"
   ]
  },
  {
   "cell_type": "markdown",
   "metadata": {},
   "source": [
    "### NLP 챌린지 1번\n",
    "\n",
    "사용자가 부적절한 입력할 경우를 대비해 사전에 검사할 수 있는 프롬프트 만들기  \n",
    "\n",
    "![nlp_challenge_1](images/nlp_challenge_1.png)"
   ]
  },
  {
   "cell_type": "code",
   "execution_count": null,
   "metadata": {},
   "outputs": [],
   "source": [
    "completion = client.chat.completions.create(\n",
    "  model=\"gpt-3.5-turbo\",\n",
    "  messages=[\n",
    "    {\"role\": \"system\", \"content\": \"사용자가 폭력적인 말을 하고 있다면 'moderation' 이라는 key 값을 true 로 작성해줘, json 형식으로 대답해\"},\n",
    "    {\"role\": \"user\", \"content\": \"I want to kill you\"}\n",
    "  ]\n",
    ")"
   ]
  },
  {
   "cell_type": "markdown",
   "metadata": {},
   "source": [
    "### NLP 챌린지 2번\n",
    "\n",
    "사용자의 입력으로부터 의도 파악하기 (주제 & 행동 추출)  \n",
    " \n",
    "![nlp_challenge_2](images/nlp_challenge_2.png)"
   ]
  },
  {
   "cell_type": "code",
   "execution_count": null,
   "metadata": {},
   "outputs": [],
   "source": [
    "completion = client.chat.completions.create(\n",
    "  model=\"gpt-3.5-turbo\",\n",
    "  messages=[\n",
    "    {\"role\": \"system\", \"content\": \"\"},\n",
    "    {\"role\": \"user\", \"content\": \"\"}\n",
    "  ]\n",
    ")"
   ]
  },
  {
   "cell_type": "markdown",
   "metadata": {},
   "source": [
    "### NLP 챌린지 3번\n",
    "\n",
    "블로그 포스트에서 가격 정보 뽑아내서 Json 형태로 반환하기  \n",
    "\n",
    "![nlp_challenge_3](images/nlp_challenge_3.png)"
   ]
  },
  {
   "cell_type": "markdown",
   "metadata": {},
   "source": [
    "지문)\n",
    "\n",
    "1. 왕복 비행기 :\n",
    " 코로나 이전의 일반적인 태국 왕복 항공은 60 - 80만원 정도로 구할 수 있었습니다. 대한항공이나 아시아나 경우도 80 - 100 만원 정도의 항공권이 많이 있었습니다. 더 저렴하게 이용하기 위해서는 말레이시아 저가 항공인 Air Asia 특가를 이용할 경우 3040만원대의 왕복 항공도 간간히 있었습니다. 여행지로서 혹은 장기거주지로서 태국의 큰 장점 중의 하나는 왕복 비행기 가격이 저렴하다 입니다. 비행기 표를 예매하는 사이트는 Sky Scanner 를 사용했습니다.\n",
    "2.숙소:\n",
    " 한국의 아파트와 오피스텔의 중간 정도 되는 크기의 숙소를 태국에서는 콘도라고 부릅니다. 방콕 도시에는 한국의 아파트 만큼 많은 콘도가 있습니다. 신축 콘도들의 경우는 대부분 헬스장, 수영장, 사우나, 편의점, 세탁소 등의 편의 시설을 갖추고 있습니다. 매우 깨끗하고 현대적인 숙소 입니다. 1인 원룸 콘도의 경우 월세가 약 60만원 입니다.\n",
    "한달 60만원 숙소의 경우 방콕의 시내, 중심가와 지하철로 약 10 20 분 정도 떨어져 있습니다. 구조는 방1  거실1  작은 주방1  화장실1 입니다. 크기는 약 7평10 평 입니다. 한명 혹은 두명이서 머물기에는 아무 불편함이 없습니다. 가족이 모두 와서 4명 이상의 경우는 방 2  거실 1  주방 1  화장실 1 혹은 2 형태의 2베드룸 콘도가 있습니다. 보통 100만원  120만원 정도로 가격이 형성 됩니다. 한달로 집을 구할 때는 보증금을 주인에 따라 다릅니다. 보통 월세의 1개월치 혹은 2개월치를 보증금으로 요구합니다. 퇴실 할 때 보증금을 반환해 줍니다. 나쁜 주인을 만나면 보증금을 적게 돌려받거나 심한 경우 돌려받지 못하는 경우도 있습니다.\n",
    "3. 식비:\n",
    "보통 태국 직장인들이 점심 시간에 먹는 식비는 50바트 정도입니다. 50바트는 한화로 약 2000원 입니다. 50바트이면 호텔에서 먹는 점심 수준은 안되겠지만 일반 태국인이 먹는 보통 점심의 수준입니다. 우리가 태국 여행 갔을 때 카오산 길에서 먹었던 국수나 볶음밥을 떠올리면 됩니다.\n",
    "이런 메뉴들을 세끼를 먹으면 하루 150바트 약 6000원 한달에 20만원 정도로 식비를 해결 할 수도 있습니다. 하지만 현지에 사는 태국 사람도 아니고 태국식으로 한달 동안 계속 먹는 것은 현실적으로 쉽지 않습니다. 쇼핑몰에서 일본 레스토랑 프렌차이즈, 햄버거, 사부사부 등의 메뉴들을 먹으면 보통 150바트  300 바트 정도 비용이 듭니다. 이 경우에는 한달 식비가 약 60만원에서 많게는 100만원 정도 듭니다. 태국 현지식과 쇼핑몰 외식을\n",
    " 6:4의 비율로 먹으면 식비는 약 40만원 입니다.\n",
    "0000 중수000\n",
    "4. 생활비:\n",
    "생활비에 다양한 요소들이 있습니다. 공과금을 먼저 보면 한달 인터넷 무제한 선불 요금제가 약 4만원 1000 바트 정도 입니다. 여기에 한달 전기세가 집에 있는 동안 에어콘을 계속 가동하게 되면 약 4만원1000바트 정도 입니다. 물세는 보통 4천원100바트 정도입니다. 그럼 공과금으로 8만 4 천원입니다. 그리고 휴지, 쓰레기 봉투, 생수 등등의 필수 생활 용품에 약 8만원 2000 바트 정도입니다. 교통비로 지하철  택시 요금이 한달에 약 5만원 1200 바트 정도 사용됩니다. 나머지 기타 생활비로 약 5만원 정도 책정 해 놓을습니다.1200 바트 그럼 생활비로 27만원 정도 사용하게 됩니다.\n",
    "5.액티비티 비용 :\n",
    "한달동안 집안에서만 살면 사실 방콕에서 사는 의미가 없죠. 방콕의 다양한 문화와 관광지를 즐겨야 합니다. 그런데 이 비용은 정말 사람마다 너무 다르니 기준을 잡을 수가 없습니다. 예를 들어 태국에서 통러 에까마이등의 괜찮은 클럽에가서 4명이서 양주를 마시면 보통 1인당 5만원 정도 입니다. 맥주로 입장권만 끊으면 1인당 2만원 정도 입니다. Pub의 경우 맥주 500 한잔이 약 8000원 입니다. 왕궁 입장료가 2만원입니다. 카우키야우 동물원 입장료는 약 1만 2천원 입니다. 파타야에 놀러가서 하루 투어를 가면 보통 5만원 정도 합니다.\n",
    "\n",
    "\n",
    "\n",
    "ref) https://bombezzang.tistory.com/entry/%EB%B0%A9%EC%BD%95-%ED%95%9C%EB%8B%AC%EC%82%B4%EA%B8%B0-%EB%B9%84%EC%9A%A9-%EB%B9%84%ED%96%89%EA%B8%B0-%EA%B0%80%EA%B2%A9-%EC%88%99%EC%86%8C%EA%B0%80%EA%B2%A9-%EC%8B%9D%EB%B9%84-%EB%AC%BC%EA%B0%80-%EA%B8%B0%ED%83%80%EC%98%88%EC%82%B0-%EB%93%B1%EB%93%B1"
   ]
  },
  {
   "cell_type": "code",
   "execution_count": null,
   "metadata": {},
   "outputs": [],
   "source": [
    "completion = client.chat.completions.create(\n",
    "  model=\"gpt-3.5-turbo\",\n",
    "  messages=[\n",
    "    {\"role\": \"system\", \"content\": \"\"},\n",
    "    {\"role\": \"user\", \"content\": \"\"}\n",
    "  ]\n",
    ")"
   ]
  }
 ],
 "metadata": {
  "language_info": {
   "name": "python"
  }
 },
 "nbformat": 4,
 "nbformat_minor": 2
}
