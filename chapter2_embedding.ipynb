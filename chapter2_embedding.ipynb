{
 "cells": [
  {
   "cell_type": "markdown",
   "metadata": {},
   "source": [
    "### Embedding 기초"
   ]
  },
  {
   "cell_type": "code",
   "execution_count": null,
   "metadata": {},
   "outputs": [],
   "source": [
    "!pip install openai\n",
    "!pip install pandas"
   ]
  },
  {
   "cell_type": "code",
   "execution_count": null,
   "metadata": {},
   "outputs": [],
   "source": [
    "from openai import OpenAI\n",
    "\n",
    "# defaults to getting the key using os.environ.get(\"OPENAI_API_KEY\")\n",
    "# if you saved the key under a different environment variable name, you can do something like:\n",
    "client = OpenAI(\n",
    "  api_key=\"\",\n",
    ")\n",
    "\n",
    "response = client.embeddings.create(\n",
    "    input=\"Your text string goes here\",\n",
    "    model=\"text-embedding-3-small\"\n",
    ")\n",
    "\n",
    "print(response.data[0].embedding)"
   ]
  },
  {
   "cell_type": "code",
   "execution_count": null,
   "metadata": {},
   "outputs": [],
   "source": [
    "import pandas as pd\n",
    "\n",
    "input_datapath = \"./data/fine_food_reviews_1k.csv\"\n",
    "df = pd.read_csv(input_datapath, index_col=0)\n",
    "df = df[[\"Time\", \"ProductId\", \"UserId\", \"Score\", \"Summary\", \"Text\"]]\n",
    "df = df.dropna()\n",
    "df[\"combined\"] = (\n",
    "    \"Title: \" + df.Summary.str.strip() + \"; Content: \" + df.Text.str.strip()\n",
    ")\n",
    "df.head(2)"
   ]
  },
  {
   "cell_type": "code",
   "execution_count": null,
   "metadata": {},
   "outputs": [],
   "source": [
    "import numpy as np\n",
    "\n",
    "\n",
    "def get_embedding(text: str, model=\"text-embedding-3-small\", **kwargs) -> list[float]:\n",
    "    # replace newlines, which can negatively affect performance.\n",
    "    text = text.replace(\"\\n\", \" \")\n",
    "\n",
    "    response = client.embeddings.create(input=[text], model=model, **kwargs)\n",
    "\n",
    "    return response.data[0].embedding\n",
    "\n",
    "\n",
    "df[\"embedding2\"] = df.combined[:300].apply(lambda x: get_embedding(x))\n",
    "#df.to_csv(\"fine_food_reviews_with_embeddings_1k.csv\")"
   ]
  },
  {
   "cell_type": "code",
   "execution_count": null,
   "metadata": {},
   "outputs": [],
   "source": [
    "df.combined[:10].apply(lambda x: get_embedding(x))"
   ]
  },
  {
   "cell_type": "code",
   "execution_count": null,
   "metadata": {},
   "outputs": [],
   "source": [
    "df.loc[:, [\"combined\", \"embedding\"]]\n",
    "\n",
    "df.loc[:300].to_csv(\"./data/fine_food_reviews_with_embeddings_300.csv\")"
   ]
  },
  {
   "cell_type": "markdown",
   "metadata": {},
   "source": [
    "### Embedding Search"
   ]
  },
  {
   "cell_type": "code",
   "execution_count": null,
   "metadata": {},
   "outputs": [],
   "source": [
    "def cosine_similarity(a, b):\n",
    "    return np.dot(a, b) / (np.linalg.norm(a) * np.linalg.norm(b))"
   ]
  },
  {
   "cell_type": "code",
   "execution_count": null,
   "metadata": {},
   "outputs": [],
   "source": [
    "from ast import literal_eval\n",
    "\n",
    "df = pd.read_csv(\"./data/fine_food_reviews_with_embeddings_300.csv\")\n",
    "df = df.drop_duplicates(\"combined\")\n",
    "df[\"embedding\"] = df.embedding.apply(literal_eval).apply(np.array)\n",
    "df.loc[:, [\"combined\", \"embedding\"]]"
   ]
  },
  {
   "cell_type": "code",
   "execution_count": null,
   "metadata": {},
   "outputs": [],
   "source": [
    "user_input_embedding = get_embedding(\n",
    "      \"delicous food\",\n",
    "      model=\"text-embedding-3-small\"\n",
    "  )\n",
    "df[\"similarity\"] = df.embedding.apply(lambda x: cosine_similarity(x, user_input_embedding))\n",
    "\n",
    "res = df.sort_values(\"similarity\", ascending=False).head(5).combined.str.replace(\"Title: \", \"\").str.replace(\"; Content:\", \": \")\n",
    "\"\\n\".join(res.to_list())"
   ]
  },
  {
   "cell_type": "code",
   "execution_count": null,
   "metadata": {},
   "outputs": [],
   "source": [
    "def search_reviews(df, user_input, n=3, pprint=True):\n",
    "    user_input_embedding = get_embedding(\n",
    "        user_input,\n",
    "        model=\"text-embedding-3-small\"\n",
    "    )\n",
    "    df[\"similarity\"] = df.embedding.apply(lambda x: cosine_similarity(x, user_input_embedding))\n",
    "\n",
    "    results = (\n",
    "        df.sort_values(\"similarity\", ascending=False)\n",
    "        .head(n)\n",
    "        .combined.str.replace(\"Title: \", \"\")\n",
    "        .str.replace(\"; Content:\", \": \")\n",
    "    )\n",
    "    if pprint:\n",
    "        for idx, r in enumerate(results):\n",
    "            print(f\"{idx})\", r[:200])\n",
    "    return results[:200]"
   ]
  },
  {
   "cell_type": "code",
   "execution_count": null,
   "metadata": {},
   "outputs": [],
   "source": [
    "results = search_reviews(df, \"delicious beans\", n=5)"
   ]
  },
  {
   "cell_type": "code",
   "execution_count": null,
   "metadata": {},
   "outputs": [],
   "source": [
    "results = search_reviews(df, \"맛있는 콩\", n=5)"
   ]
  },
  {
   "cell_type": "code",
   "execution_count": null,
   "metadata": {},
   "outputs": [],
   "source": [
    "results = search_reviews(df, \"bad taste\", n=5)"
   ]
  },
  {
   "cell_type": "code",
   "execution_count": null,
   "metadata": {},
   "outputs": [],
   "source": [
    "def get_gpt_response(user_mesage, search_result):\n",
    "  full_message = f\"[Related User Review Data]\\n{search_result}\\n\\n{user_message}\"\n",
    "\n",
    "  completion = client.chat.completions.create(\n",
    "    model=\"gpt-3.5-turbo\",\n",
    "    messages=[\n",
    "      {\"role\": \"system\", \"content\": \"유저의 질문과 관련 있는 음식점 리뷰 데이터가 제공될 예정이야. 리뷰 데이터를 활용해서 데이터 분석을 도와줘.\"},\n",
    "      {\"role\": \"user\", \"content\": full_message}\n",
    "    ],\n",
    "    temperature=0,\n",
    "  )\n",
    "\n",
    "  return completion.choices[0].message.content\n",
    "\n",
    "\n",
    "while True:\n",
    "  user_message = input(\">>> \")\n",
    "\n",
    "  if user_message == \"break\":\n",
    "    break\n",
    "\n",
    "  search_result_df = search_reviews(df, user_message, n=5, pprint=False)\n",
    "  search_result = \"\\n\".join((search_result_df.str[:200] + \"...\").to_list())\n",
    "  print(f\"[Related Review Data]\\n{search_result}\")\n",
    "  print(\"--------\\n\")\n",
    "\n",
    "  output = get_gpt_response(user_message, search_result)\n",
    "  print(output)\n",
    "  print(\"========\\n\")"
   ]
  }
 ],
 "metadata": {
  "language_info": {
   "name": "python"
  }
 },
 "nbformat": 4,
 "nbformat_minor": 2
}
